{
 "cells": [
  {
   "cell_type": "code",
   "execution_count": 39,
   "id": "bad122c4-5de8-48f6-9b73-2a4acfb5cef9",
   "metadata": {},
   "outputs": [],
   "source": [
    "import pandas as pd\n",
    "import numpy as np\n",
    "import seaborn as sns\n",
    "import matplotlib.pyplot as plt\n",
    "%matplotlib inline\n",
    "\n",
    "# to create dummy data\n",
    "from sklearn.datasets import make_classification"
   ]
  },
  {
   "cell_type": "code",
   "execution_count": 40,
   "id": "cc12e2ca-2ec9-46fb-bf94-07881cc91d28",
   "metadata": {},
   "outputs": [],
   "source": [
    "X, y = make_classification(n_samples=10000, n_classes=2, weights=[1,1], random_state=1)\n",
    "\n",
    "# n_classes => no. o/p feature (here it is 0 and 1)\n",
    "# weights => here it is balanced (if it was [0.5,5], then it would be imbalanced dataset)"
   ]
  },
  {
   "cell_type": "code",
   "execution_count": 41,
   "id": "d1d9e8fe-407e-4e07-b205-15731f064c30",
   "metadata": {},
   "outputs": [
    {
     "data": {
      "text/plain": [
       "array([[-0.23629978, -1.05493612, -0.43290515, ..., -0.3493208 ,\n",
       "        -1.11850064,  0.3847425 ],\n",
       "       [ 0.19173349, -2.3689596 , -0.49565017, ...,  0.18279077,\n",
       "         0.21356147,  0.49222565],\n",
       "       [ 0.26559616, -0.53611925, -0.14163292, ...,  0.62926365,\n",
       "         1.07755487,  0.94463163],\n",
       "       ...,\n",
       "       [-0.69998136,  1.32415374, -0.85002558, ..., -0.22088742,\n",
       "         2.72373949, -0.48296092],\n",
       "       [ 1.74253803,  0.32763222, -0.43618563, ..., -0.29079439,\n",
       "         0.37285878, -0.39378543],\n",
       "       [-0.81545439,  0.04712317, -0.63314742, ..., -0.0127121 ,\n",
       "         0.82512065,  1.30908699]])"
      ]
     },
     "execution_count": 41,
     "metadata": {},
     "output_type": "execute_result"
    }
   ],
   "source": [
    "X"
   ]
  },
  {
   "cell_type": "code",
   "execution_count": 42,
   "id": "ece040da-ec08-462f-b6cd-23613793a674",
   "metadata": {},
   "outputs": [
    {
     "data": {
      "text/plain": [
       "(10000, 20)"
      ]
     },
     "execution_count": 42,
     "metadata": {},
     "output_type": "execute_result"
    }
   ],
   "source": [
    "X.shape"
   ]
  },
  {
   "cell_type": "code",
   "execution_count": 43,
   "id": "6b0b6abb-74b2-4c37-9f76-329899cb5ce1",
   "metadata": {},
   "outputs": [
    {
     "data": {
      "text/plain": [
       "array([1, 0, 1, ..., 1, 1, 0])"
      ]
     },
     "execution_count": 43,
     "metadata": {},
     "output_type": "execute_result"
    }
   ],
   "source": [
    "y"
   ]
  },
  {
   "cell_type": "code",
   "execution_count": 44,
   "id": "be7aa5a5-5c01-4702-929e-cc6ed570a32d",
   "metadata": {},
   "outputs": [],
   "source": [
    "from sklearn.model_selection import train_test_split\n",
    "X_train, X_test, y_train, y_test = train_test_split(X, y, test_size=0.3, random_state=1)"
   ]
  },
  {
   "cell_type": "code",
   "execution_count": 45,
   "id": "92313cce-ae7a-4b73-a386-09d03e40eb6e",
   "metadata": {},
   "outputs": [
    {
     "data": {
      "text/plain": [
       "array([[-1.5838042 ,  0.87924609, -0.27765563, ...,  0.99782293,\n",
       "         1.55240989, -2.08452324],\n",
       "       [-0.72872472,  1.03903101,  0.21547987, ...,  0.25819851,\n",
       "         0.6539945 ,  0.39867918],\n",
       "       [ 0.67644336,  0.24933796,  0.21453529, ..., -0.48332646,\n",
       "        -0.55080868,  0.9979384 ],\n",
       "       ...,\n",
       "       [ 0.06691259,  0.70358266,  1.26539575, ...,  0.71832818,\n",
       "        -1.18215876, -1.95864668],\n",
       "       [-1.56807435,  0.70029751,  1.33767084, ..., -0.02363495,\n",
       "         0.38503059,  1.6856741 ],\n",
       "       [-0.41938575, -0.18277587, -0.5381752 , ...,  1.02274135,\n",
       "        -1.81052686,  0.42438051]])"
      ]
     },
     "execution_count": 45,
     "metadata": {},
     "output_type": "execute_result"
    }
   ],
   "source": [
    "X_train"
   ]
  },
  {
   "cell_type": "code",
   "execution_count": 46,
   "id": "5cc28d24-c82d-49ad-a044-6fc5b681cf0b",
   "metadata": {},
   "outputs": [],
   "source": [
    "from sklearn.metrics import roc_auc_score, roc_curve"
   ]
  },
  {
   "cell_type": "markdown",
   "id": "d6bb137a-6c8d-4a3d-9a2d-8449074f49ea",
   "metadata": {},
   "source": [
    "## Random Forest"
   ]
  },
  {
   "cell_type": "code",
   "execution_count": 47,
   "id": "70c25551-0fbb-4e3d-b79c-45f2d4ec1609",
   "metadata": {},
   "outputs": [
    {
     "data": {
      "text/html": [
       "<style>#sk-container-id-2 {color: black;background-color: white;}#sk-container-id-2 pre{padding: 0;}#sk-container-id-2 div.sk-toggleable {background-color: white;}#sk-container-id-2 label.sk-toggleable__label {cursor: pointer;display: block;width: 100%;margin-bottom: 0;padding: 0.3em;box-sizing: border-box;text-align: center;}#sk-container-id-2 label.sk-toggleable__label-arrow:before {content: \"▸\";float: left;margin-right: 0.25em;color: #696969;}#sk-container-id-2 label.sk-toggleable__label-arrow:hover:before {color: black;}#sk-container-id-2 div.sk-estimator:hover label.sk-toggleable__label-arrow:before {color: black;}#sk-container-id-2 div.sk-toggleable__content {max-height: 0;max-width: 0;overflow: hidden;text-align: left;background-color: #f0f8ff;}#sk-container-id-2 div.sk-toggleable__content pre {margin: 0.2em;color: black;border-radius: 0.25em;background-color: #f0f8ff;}#sk-container-id-2 input.sk-toggleable__control:checked~div.sk-toggleable__content {max-height: 200px;max-width: 100%;overflow: auto;}#sk-container-id-2 input.sk-toggleable__control:checked~label.sk-toggleable__label-arrow:before {content: \"▾\";}#sk-container-id-2 div.sk-estimator input.sk-toggleable__control:checked~label.sk-toggleable__label {background-color: #d4ebff;}#sk-container-id-2 div.sk-label input.sk-toggleable__control:checked~label.sk-toggleable__label {background-color: #d4ebff;}#sk-container-id-2 input.sk-hidden--visually {border: 0;clip: rect(1px 1px 1px 1px);clip: rect(1px, 1px, 1px, 1px);height: 1px;margin: -1px;overflow: hidden;padding: 0;position: absolute;width: 1px;}#sk-container-id-2 div.sk-estimator {font-family: monospace;background-color: #f0f8ff;border: 1px dotted black;border-radius: 0.25em;box-sizing: border-box;margin-bottom: 0.5em;}#sk-container-id-2 div.sk-estimator:hover {background-color: #d4ebff;}#sk-container-id-2 div.sk-parallel-item::after {content: \"\";width: 100%;border-bottom: 1px solid gray;flex-grow: 1;}#sk-container-id-2 div.sk-label:hover label.sk-toggleable__label {background-color: #d4ebff;}#sk-container-id-2 div.sk-serial::before {content: \"\";position: absolute;border-left: 1px solid gray;box-sizing: border-box;top: 0;bottom: 0;left: 50%;z-index: 0;}#sk-container-id-2 div.sk-serial {display: flex;flex-direction: column;align-items: center;background-color: white;padding-right: 0.2em;padding-left: 0.2em;position: relative;}#sk-container-id-2 div.sk-item {position: relative;z-index: 1;}#sk-container-id-2 div.sk-parallel {display: flex;align-items: stretch;justify-content: center;background-color: white;position: relative;}#sk-container-id-2 div.sk-item::before, #sk-container-id-2 div.sk-parallel-item::before {content: \"\";position: absolute;border-left: 1px solid gray;box-sizing: border-box;top: 0;bottom: 0;left: 50%;z-index: -1;}#sk-container-id-2 div.sk-parallel-item {display: flex;flex-direction: column;z-index: 1;position: relative;background-color: white;}#sk-container-id-2 div.sk-parallel-item:first-child::after {align-self: flex-end;width: 50%;}#sk-container-id-2 div.sk-parallel-item:last-child::after {align-self: flex-start;width: 50%;}#sk-container-id-2 div.sk-parallel-item:only-child::after {width: 0;}#sk-container-id-2 div.sk-dashed-wrapped {border: 1px dashed gray;margin: 0 0.4em 0.5em 0.4em;box-sizing: border-box;padding-bottom: 0.4em;background-color: white;}#sk-container-id-2 div.sk-label label {font-family: monospace;font-weight: bold;display: inline-block;line-height: 1.2em;}#sk-container-id-2 div.sk-label-container {text-align: center;}#sk-container-id-2 div.sk-container {/* jupyter's `normalize.less` sets `[hidden] { display: none; }` but bootstrap.min.css set `[hidden] { display: none !important; }` so we also need the `!important` here to be able to override the default hidden behavior on the sphinx rendered scikit-learn.org. See: https://github.com/scikit-learn/scikit-learn/issues/21755 */display: inline-block !important;position: relative;}#sk-container-id-2 div.sk-text-repr-fallback {display: none;}</style><div id=\"sk-container-id-2\" class=\"sk-top-container\"><div class=\"sk-text-repr-fallback\"><pre>RandomForestClassifier()</pre><b>In a Jupyter environment, please rerun this cell to show the HTML representation or trust the notebook. <br />On GitHub, the HTML representation is unable to render, please try loading this page with nbviewer.org.</b></div><div class=\"sk-container\" hidden><div class=\"sk-item\"><div class=\"sk-estimator sk-toggleable\"><input class=\"sk-toggleable__control sk-hidden--visually\" id=\"sk-estimator-id-2\" type=\"checkbox\" checked><label for=\"sk-estimator-id-2\" class=\"sk-toggleable__label sk-toggleable__label-arrow\">RandomForestClassifier</label><div class=\"sk-toggleable__content\"><pre>RandomForestClassifier()</pre></div></div></div></div></div>"
      ],
      "text/plain": [
       "RandomForestClassifier()"
      ]
     },
     "execution_count": 47,
     "metadata": {},
     "output_type": "execute_result"
    }
   ],
   "source": [
    "from sklearn.ensemble import RandomForestClassifier\n",
    "rf_model = RandomForestClassifier()\n",
    "rf_model.fit(X_train, y_train)"
   ]
  },
  {
   "cell_type": "code",
   "execution_count": 58,
   "id": "1f0860ed-ccf6-4358-a9b1-34757772ea83",
   "metadata": {},
   "outputs": [
    {
     "name": "stdout",
     "output_type": "stream",
     "text": [
      "RF training roc-auc: 1.0\n",
      "RF test roc-auc: 0.9936156756285879\n"
     ]
    }
   ],
   "source": [
    "# predict_proba() -> it is used to calculate the probability for wach sample's probability to be 1 or 0\n",
    "\n",
    "\n",
    "y_train_pred = rf_model.predict_proba(X_train)\n",
    "y_test_pred = rf_model.predict_proba(X_test)\n",
    "y_train_pred[:, 1]  ## y_train_pred will return 2 columns as we have done predict_proba, we are taking the 1 column here\n",
    "print(\"RF training roc-auc: {}\".format(roc_auc_score(y_train, y_train_pred[:,1])))\n",
    "print(\"RF test roc-auc: {}\".format(roc_auc_score(y_test, y_test_pred[:,1])))"
   ]
  },
  {
   "cell_type": "markdown",
   "id": "081dc6e3-1474-4343-8f32-33d86550ec98",
   "metadata": {},
   "source": [
    "## Logistic Regression"
   ]
  },
  {
   "cell_type": "code",
   "execution_count": 53,
   "id": "091a8897-7eaa-4751-a9b6-2ba3de80e289",
   "metadata": {},
   "outputs": [
    {
     "name": "stdout",
     "output_type": "stream",
     "text": [
      "Logistic training roc-auc: 0.9939927849418968\n",
      "Logistic test roc-auc: 0.9928407743412785\n"
     ]
    }
   ],
   "source": [
    "from sklearn.linear_model import LogisticRegression\n",
    "log_model = LogisticRegression()\n",
    "log_model.fit(X_train, y_train)\n",
    "y_train_pred = log_model.predict_proba(X_train)\n",
    "y_test_pred = log_model.predict_proba(X_test)\n",
    "print(\"Logistic training roc-auc: {}\".format(roc_auc_score(y_train, y_train_pred[:,1])))\n",
    "print(\"Logistic test roc-auc: {}\".format(roc_auc_score(y_test, y_test_pred[:,1])))"
   ]
  },
  {
   "cell_type": "markdown",
   "id": "c3b54a35-d542-4d72-b338-eeccbc2afa9f",
   "metadata": {},
   "source": [
    "## Adaboost"
   ]
  },
  {
   "cell_type": "code",
   "execution_count": 56,
   "id": "d20329c1-2cb6-48ae-9a3c-a54aa6b5ddc5",
   "metadata": {},
   "outputs": [
    {
     "name": "stdout",
     "output_type": "stream",
     "text": [
      "Adaboost training roc-auc: 0.9983950528394598\n",
      "Adaboost test roc-auc: 0.9923858781740508\n"
     ]
    }
   ],
   "source": [
    "from sklearn.ensemble import AdaBoostClassifier\n",
    "ada_model = AdaBoostClassifier()\n",
    "ada_model.fit(X_train, y_train)\n",
    "y_train_pred = ada_model.predict_proba(X_train)\n",
    "y_test_pred = ada_model.predict_proba(X_test)\n",
    "print(\"Adaboost training roc-auc: {}\".format(roc_auc_score(y_train, y_train_pred[:,1])))\n",
    "print(\"Adaboost test roc-auc: {}\".format(roc_auc_score(y_test, y_test_pred[:,1])))"
   ]
  },
  {
   "cell_type": "markdown",
   "id": "3fdd7199-94d8-4fa3-960a-d86995ce9691",
   "metadata": {},
   "source": [
    "## KNN Classifier"
   ]
  },
  {
   "cell_type": "code",
   "execution_count": 57,
   "id": "add4182e-a427-4226-a2ef-9e5e31355ee0",
   "metadata": {},
   "outputs": [
    {
     "name": "stdout",
     "output_type": "stream",
     "text": [
      "KNN training roc-auc: 0.968588774667884\n",
      "KNN test roc-auc: 0.92166230215239\n"
     ]
    }
   ],
   "source": [
    "from sklearn.neighbors import KNeighborsClassifier\n",
    "knn_model = KNeighborsClassifier()\n",
    "knn_model.fit(X_train, y_train)\n",
    "y_train_pred = knn_model.predict_proba(X_train)\n",
    "y_test_pred = knn_model.predict_proba(X_test)\n",
    "print(\"KNN training roc-auc: {}\".format(roc_auc_score(y_train, y_train_pred[:,1])))\n",
    "print(\"KNN test roc-auc: {}\".format(roc_auc_score(y_test, y_test_pred[:,1])))"
   ]
  },
  {
   "cell_type": "code",
   "execution_count": null,
   "id": "72b777cd-5f2d-4fb1-a630-f23fb01ef17b",
   "metadata": {},
   "outputs": [],
   "source": []
  },
  {
   "cell_type": "markdown",
   "id": "7656110b-749c-4a77-8a7b-167892c4fd0a",
   "metadata": {},
   "source": [
    "## By Default it is selecting 0.5 as thresold, we will now see the best thresold value for max accuracy.\n",
    "## Also we will see 4 algo together"
   ]
  },
  {
   "cell_type": "code",
   "execution_count": 80,
   "id": "787c765d-28a1-436d-8f60-9b3d89bd71c8",
   "metadata": {},
   "outputs": [
    {
     "data": {
      "text/html": [
       "<div>\n",
       "<style scoped>\n",
       "    .dataframe tbody tr th:only-of-type {\n",
       "        vertical-align: middle;\n",
       "    }\n",
       "\n",
       "    .dataframe tbody tr th {\n",
       "        vertical-align: top;\n",
       "    }\n",
       "\n",
       "    .dataframe thead th {\n",
       "        text-align: right;\n",
       "    }\n",
       "</style>\n",
       "<table border=\"1\" class=\"dataframe\">\n",
       "  <thead>\n",
       "    <tr style=\"text-align: right;\">\n",
       "      <th></th>\n",
       "      <th>0</th>\n",
       "      <th>1</th>\n",
       "      <th>2</th>\n",
       "      <th>3</th>\n",
       "    </tr>\n",
       "  </thead>\n",
       "  <tbody>\n",
       "    <tr>\n",
       "      <th>0</th>\n",
       "      <td>1.00</td>\n",
       "      <td>0.990154</td>\n",
       "      <td>0.694267</td>\n",
       "      <td>1.0</td>\n",
       "    </tr>\n",
       "    <tr>\n",
       "      <th>1</th>\n",
       "      <td>0.98</td>\n",
       "      <td>0.997793</td>\n",
       "      <td>0.525002</td>\n",
       "      <td>0.6</td>\n",
       "    </tr>\n",
       "    <tr>\n",
       "      <th>2</th>\n",
       "      <td>0.99</td>\n",
       "      <td>0.999904</td>\n",
       "      <td>0.565434</td>\n",
       "      <td>1.0</td>\n",
       "    </tr>\n",
       "    <tr>\n",
       "      <th>3</th>\n",
       "      <td>1.00</td>\n",
       "      <td>0.999873</td>\n",
       "      <td>0.565385</td>\n",
       "      <td>1.0</td>\n",
       "    </tr>\n",
       "    <tr>\n",
       "      <th>4</th>\n",
       "      <td>0.00</td>\n",
       "      <td>0.005359</td>\n",
       "      <td>0.465820</td>\n",
       "      <td>0.0</td>\n",
       "    </tr>\n",
       "    <tr>\n",
       "      <th>...</th>\n",
       "      <td>...</td>\n",
       "      <td>...</td>\n",
       "      <td>...</td>\n",
       "      <td>...</td>\n",
       "    </tr>\n",
       "    <tr>\n",
       "      <th>2995</th>\n",
       "      <td>0.99</td>\n",
       "      <td>0.949541</td>\n",
       "      <td>0.521827</td>\n",
       "      <td>0.4</td>\n",
       "    </tr>\n",
       "    <tr>\n",
       "      <th>2996</th>\n",
       "      <td>0.00</td>\n",
       "      <td>0.004828</td>\n",
       "      <td>0.466807</td>\n",
       "      <td>0.4</td>\n",
       "    </tr>\n",
       "    <tr>\n",
       "      <th>2997</th>\n",
       "      <td>0.99</td>\n",
       "      <td>0.987525</td>\n",
       "      <td>0.531302</td>\n",
       "      <td>1.0</td>\n",
       "    </tr>\n",
       "    <tr>\n",
       "      <th>2998</th>\n",
       "      <td>1.00</td>\n",
       "      <td>0.998042</td>\n",
       "      <td>0.549850</td>\n",
       "      <td>0.8</td>\n",
       "    </tr>\n",
       "    <tr>\n",
       "      <th>2999</th>\n",
       "      <td>1.00</td>\n",
       "      <td>0.996703</td>\n",
       "      <td>0.555410</td>\n",
       "      <td>0.8</td>\n",
       "    </tr>\n",
       "  </tbody>\n",
       "</table>\n",
       "<p>3000 rows × 4 columns</p>\n",
       "</div>"
      ],
      "text/plain": [
       "         0         1         2    3\n",
       "0     1.00  0.990154  0.694267  1.0\n",
       "1     0.98  0.997793  0.525002  0.6\n",
       "2     0.99  0.999904  0.565434  1.0\n",
       "3     1.00  0.999873  0.565385  1.0\n",
       "4     0.00  0.005359  0.465820  0.0\n",
       "...    ...       ...       ...  ...\n",
       "2995  0.99  0.949541  0.521827  0.4\n",
       "2996  0.00  0.004828  0.466807  0.4\n",
       "2997  0.99  0.987525  0.531302  1.0\n",
       "2998  1.00  0.998042  0.549850  0.8\n",
       "2999  1.00  0.996703  0.555410  0.8\n",
       "\n",
       "[3000 rows x 4 columns]"
      ]
     },
     "execution_count": 80,
     "metadata": {},
     "output_type": "execute_result"
    }
   ],
   "source": [
    "## predicting for all the models and storing them in \"pred\". Then concatinating all the 4 models column wise\n",
    "\n",
    "pred = []\n",
    "for model in [rf_model, log_model, ada_model, knn_model]:\n",
    "    pred.append(pd.Series(model.predict_proba(X_test)[:,1]))\n",
    "pd.concat(pred, axis=1)"
   ]
  },
  {
   "cell_type": "code",
   "execution_count": 78,
   "id": "523d52f5-6822-4188-97c9-af85096555d3",
   "metadata": {},
   "outputs": [
    {
     "data": {
      "text/html": [
       "<div>\n",
       "<style scoped>\n",
       "    .dataframe tbody tr th:only-of-type {\n",
       "        vertical-align: middle;\n",
       "    }\n",
       "\n",
       "    .dataframe tbody tr th {\n",
       "        vertical-align: top;\n",
       "    }\n",
       "\n",
       "    .dataframe thead th {\n",
       "        text-align: right;\n",
       "    }\n",
       "</style>\n",
       "<table border=\"1\" class=\"dataframe\">\n",
       "  <thead>\n",
       "    <tr style=\"text-align: right;\">\n",
       "      <th></th>\n",
       "      <th>0</th>\n",
       "    </tr>\n",
       "  </thead>\n",
       "  <tbody>\n",
       "    <tr>\n",
       "      <th>0</th>\n",
       "      <td>0.921105</td>\n",
       "    </tr>\n",
       "    <tr>\n",
       "      <th>1</th>\n",
       "      <td>0.775699</td>\n",
       "    </tr>\n",
       "    <tr>\n",
       "      <th>2</th>\n",
       "      <td>0.888834</td>\n",
       "    </tr>\n",
       "    <tr>\n",
       "      <th>3</th>\n",
       "      <td>0.891315</td>\n",
       "    </tr>\n",
       "    <tr>\n",
       "      <th>4</th>\n",
       "      <td>0.117795</td>\n",
       "    </tr>\n",
       "    <tr>\n",
       "      <th>...</th>\n",
       "      <td>...</td>\n",
       "    </tr>\n",
       "    <tr>\n",
       "      <th>2995</th>\n",
       "      <td>0.715342</td>\n",
       "    </tr>\n",
       "    <tr>\n",
       "      <th>2996</th>\n",
       "      <td>0.217909</td>\n",
       "    </tr>\n",
       "    <tr>\n",
       "      <th>2997</th>\n",
       "      <td>0.877207</td>\n",
       "    </tr>\n",
       "    <tr>\n",
       "      <th>2998</th>\n",
       "      <td>0.836973</td>\n",
       "    </tr>\n",
       "    <tr>\n",
       "      <th>2999</th>\n",
       "      <td>0.838028</td>\n",
       "    </tr>\n",
       "  </tbody>\n",
       "</table>\n",
       "<p>3000 rows × 1 columns</p>\n",
       "</div>"
      ],
      "text/plain": [
       "             0\n",
       "0     0.921105\n",
       "1     0.775699\n",
       "2     0.888834\n",
       "3     0.891315\n",
       "4     0.117795\n",
       "...        ...\n",
       "2995  0.715342\n",
       "2996  0.217909\n",
       "2997  0.877207\n",
       "2998  0.836973\n",
       "2999  0.838028\n",
       "\n",
       "[3000 rows x 1 columns]"
      ]
     },
     "execution_count": 78,
     "metadata": {},
     "output_type": "execute_result"
    }
   ],
   "source": [
    "## Taking mean of all the concatinated samples and storing them in \"final_prediction\"\n",
    "\n",
    "final_prediction = pd.concat(pred, axis=1).mean(axis=1)\n",
    "pd.DataFrame(final_prediction)"
   ]
  },
  {
   "cell_type": "code",
   "execution_count": 76,
   "id": "3f11f655-c5c9-42bf-9514-60c44ca4c016",
   "metadata": {},
   "outputs": [
    {
     "name": "stdout",
     "output_type": "stream",
     "text": [
      "Ensemble roc-auc score: 0.9909909669665824\n"
     ]
    }
   ],
   "source": [
    "print(\"Ensemble roc-auc score: {}\".format(roc_auc_score(y_test, final_prediction)))"
   ]
  },
  {
   "cell_type": "markdown",
   "id": "7add9e21-c73b-4684-ab3e-cfd38555714f",
   "metadata": {},
   "source": [
    "## ROC Curve"
   ]
  },
  {
   "cell_type": "code",
   "execution_count": 81,
   "id": "8b7f3440-6373-4a86-9b22-a2be66ff8428",
   "metadata": {},
   "outputs": [
    {
     "data": {
      "text/plain": [
       "array([1.92492837, 0.92492837, 0.91628969, 0.91612562, 0.91524886,\n",
       "       0.91506589, 0.88601349, 0.88600376, 0.86661831, 0.86641984,\n",
       "       0.86275924, 0.86267974, 0.86112038, 0.8607745 , 0.85022774,\n",
       "       0.85010582, 0.8238499 , 0.82379736, 0.82140902, 0.82140726,\n",
       "       0.81612022, 0.8160946 , 0.80148002, 0.80121636, 0.78748821,\n",
       "       0.78729201, 0.78292553, 0.78280856, 0.78068849, 0.78066668,\n",
       "       0.73698038, 0.73691542, 0.72399166, 0.72393883, 0.72374255,\n",
       "       0.72281933, 0.71014531, 0.70975751, 0.67031175, 0.66891135,\n",
       "       0.65990099, 0.65924178, 0.64665422, 0.64603438, 0.62648698,\n",
       "       0.62544135, 0.61836772, 0.61169533, 0.60846656, 0.60441109,\n",
       "       0.60301897, 0.60062954, 0.59806654, 0.58682262, 0.57770091,\n",
       "       0.5759754 , 0.55829978, 0.55776262, 0.53749516, 0.53428892,\n",
       "       0.52230625, 0.47722114, 0.47016557, 0.46505126, 0.46392908,\n",
       "       0.40403434, 0.39862104, 0.32469783, 0.32443695, 0.22801584,\n",
       "       0.22787529, 0.18121212, 0.18119639, 0.17106405, 0.17099526,\n",
       "       0.12437349, 0.12435668, 0.12090661, 0.12090435, 0.11995031,\n",
       "       0.11994874, 0.11785832, 0.1178515 , 0.11722858, 0.11722177,\n",
       "       0.07767291])"
      ]
     },
     "execution_count": 81,
     "metadata": {},
     "output_type": "execute_result"
    }
   ],
   "source": [
    "from sklearn.metrics import roc_curve\n",
    "fpr, tpr, thresolds = roc_curve(y_test, final_prediction)\n",
    "thresolds"
   ]
  },
  {
   "cell_type": "code",
   "execution_count": 87,
   "id": "e81330c9-81f6-40d3-826e-4cd6ff3e8826",
   "metadata": {},
   "outputs": [
    {
     "data": {
      "text/html": [
       "<div>\n",
       "<style scoped>\n",
       "    .dataframe tbody tr th:only-of-type {\n",
       "        vertical-align: middle;\n",
       "    }\n",
       "\n",
       "    .dataframe tbody tr th {\n",
       "        vertical-align: top;\n",
       "    }\n",
       "\n",
       "    .dataframe thead th {\n",
       "        text-align: right;\n",
       "    }\n",
       "</style>\n",
       "<table border=\"1\" class=\"dataframe\">\n",
       "  <thead>\n",
       "    <tr style=\"text-align: right;\">\n",
       "      <th></th>\n",
       "      <th>Thresolds</th>\n",
       "      <th>Accuracy</th>\n",
       "    </tr>\n",
       "  </thead>\n",
       "  <tbody>\n",
       "    <tr>\n",
       "      <th>59</th>\n",
       "      <td>0.534289</td>\n",
       "      <td>0.986333</td>\n",
       "    </tr>\n",
       "    <tr>\n",
       "      <th>60</th>\n",
       "      <td>0.522306</td>\n",
       "      <td>0.986000</td>\n",
       "    </tr>\n",
       "    <tr>\n",
       "      <th>57</th>\n",
       "      <td>0.557763</td>\n",
       "      <td>0.986000</td>\n",
       "    </tr>\n",
       "    <tr>\n",
       "      <th>58</th>\n",
       "      <td>0.537495</td>\n",
       "      <td>0.986000</td>\n",
       "    </tr>\n",
       "    <tr>\n",
       "      <th>55</th>\n",
       "      <td>0.575975</td>\n",
       "      <td>0.985667</td>\n",
       "    </tr>\n",
       "  </tbody>\n",
       "</table>\n",
       "</div>"
      ],
      "text/plain": [
       "    Thresolds  Accuracy\n",
       "59   0.534289  0.986333\n",
       "60   0.522306  0.986000\n",
       "57   0.557763  0.986000\n",
       "58   0.537495  0.986000\n",
       "55   0.575975  0.985667"
      ]
     },
     "execution_count": 87,
     "metadata": {},
     "output_type": "execute_result"
    }
   ],
   "source": [
    "from sklearn.metrics import accuracy_score\n",
    "accuracy_list = []\n",
    "for thres in thresolds:\n",
    "    # if predicted point is greater thean thresold then it will be 1 otherwise 0\n",
    "    y_pred = np.where(final_prediction > thres, 1, 0)\n",
    "    accuracy_list.append(accuracy_score(y_test, y_pred, normalize=True))\n",
    "    \n",
    "accuracy_list = pd.concat([pd.Series(thresolds), pd.Series(accuracy_list)], axis=1)\n",
    "accuracy_list.columns = ['Thresolds', 'Accuracy']\n",
    "accuracy_list.sort_values(by = 'Accuracy', ascending = False, inplace = True)\n",
    "accuracy_list.head()"
   ]
  },
  {
   "cell_type": "markdown",
   "id": "4c2e16b7-8246-4a27-a8f2-b7fd1d060649",
   "metadata": {},
   "source": [
    "## Drawing the ROC Curve"
   ]
  },
  {
   "cell_type": "code",
   "execution_count": 98,
   "id": "adde9437-ab8d-4da4-ab96-544387955758",
   "metadata": {},
   "outputs": [],
   "source": [
    "def plot_rouc_curve(fpr, tpr):\n",
    "    plt.figure(figsize=(3,3))\n",
    "    plt.plot(fpr, tpr, color = 'orange', label = 'ROC')\n",
    "    plt.plot([0,1], [0,1], color = 'darkblue', linestyle = '--')\n",
    "    plt.xlabel('False Positive Rate')\n",
    "    plt.ylabel('True Positive Rate')\n",
    "    plt.title('Receiver Operating Characteristic(ROC) curve')\n",
    "    plt.legend()\n",
    "    plt.show()"
   ]
  },
  {
   "cell_type": "code",
   "execution_count": 99,
   "id": "9b378d1c-f5a3-4502-bd7e-c3118f4a9679",
   "metadata": {},
   "outputs": [
    {
     "data": {
      "image/png": "[encoded data removed]",
      "text/plain": [
       "<Figure size 300x300 with 1 Axes>"
      ]
     },
     "metadata": {},
     "output_type": "display_data"
    }
   ],
   "source": [
    "plot_rouc_curve(fpr,tpr)"
   ]
  },
  {
   "cell_type": "code",
   "execution_count": null,
   "id": "5e846ea1-5352-4a89-aad0-4def25a9a6a6",
   "metadata": {},
   "outputs": [],
   "source": []
  }
 ],
 "metadata": {
  "kernelspec": {
   "display_name": "Python 3 (ipykernel)",
   "language": "python",
   "name": "python3"
  },
  "language_info": {
   "codemirror_mode": {
    "name": "ipython",
    "version": 3
   },
   "file_extension": ".py",
   "mimetype": "text/x-python",
   "name": "python",
   "nbconvert_exporter": "python",
   "pygments_lexer": "ipython3",
   "version": "3.10.6"
  }
 },
 "nbformat": 4,
 "nbformat_minor": 5
}
